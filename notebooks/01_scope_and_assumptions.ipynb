{
  "cells": [
    {
      "cell_type": "markdown",
      "metadata": {},
      "source": [
        "# Commercial Forecast Agent: Scope & Assumptions\n",
        "\n",
        "**MVP Week-1 Deliverable**  \n",
        "This notebook documents the scope, data sources, and key assumptions for the AI-powered commercial forecast agent.\n",
        "\n",
        "## Project Overview\n",
        "\n",
        "We are building an end-to-end agent that turns minimal inputs into **board-ready commercial forecasts** for pipeline drugs, specifically targeting:\n",
        "\n",
        "- **TAM/SAM-based adoption forecast** using Bass diffusion + ML overlay\n",
        "- **Price/access simulator** mapping price bands to coverage and net revenue\n",
        "- **Monte-Carlo NPV/IRR** engine with explainable drivers\n",
        "- **One-pager export** suitable for senior stakeholders\n",
        "\n",
        "**Reference asset:** Verona Pharma's ensifentrine (COPD) as design blueprint\n"
      ]
    },
    {
      "cell_type": "code",
      "execution_count": null,
      "metadata": {},
      "outputs": [],
      "source": [
        "# Setup and imports\n",
        "import sys\n",
        "import os\n",
        "sys.path.append('../src')\n",
        "\n",
        "import pandas as pd\n",
        "import numpy as np\n",
        "import matplotlib.pyplot as plt\n",
        "import seaborn as sns\n",
        "import yaml\n",
        "from pathlib import Path\n",
        "\n",
        "# Import our modules\n",
        "from io.etl import load_config, load_all_data\n",
        "\n",
        "# Set style\n",
        "plt.style.use('default')\n",
        "sns.set_palette(\"husl\")\n",
        "\n",
        "print(\"Setup complete!\")\n"
      ]
    }
  ],
  "metadata": {
    "language_info": {
      "name": "python"
    }
  },
  "nbformat": 4,
  "nbformat_minor": 2
}
