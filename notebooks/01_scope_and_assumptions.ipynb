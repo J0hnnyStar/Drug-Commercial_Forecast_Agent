{
 "cells": [
  {
   "cell_type": "markdown",
   "metadata": {},
   "source": [
    "# Commercial Forecast Agent: Scope & Assumptions\n",
    "\n",
    "**MVP Week-1 Deliverable**  \n",
    "This notebook documents the scope, data sources, and key assumptions for the AI-powered commercial forecast agent.\n",
    "\n",
    "## Project Overview\n",
    "\n",
    "We are building an end-to-end agent that turns minimal inputs into **board-ready commercial forecasts** for pipeline drugs, specifically targeting:\n",
    "\n",
    "- **TAM/SAM-based adoption forecast** using Bass diffusion + ML overlay\n",
    "- **Price/access simulator** mapping price bands to coverage and net revenue\n",
    "- **Monte-Carlo NPV/IRR** engine with explainable drivers\n",
    "- **One-pager export** suitable for senior stakeholders\n",
    "\n",
    "**Reference asset:** Verona Pharma's ensifentrine (COPD) as design blueprint\n"
   ]
  },
  {
   "cell_type": "code",
   "execution_count": null,
   "metadata": {},
   "outputs": [],
   "source": "# Setup and imports\nimport sys\nimport os\nsys.path.append('../src')\n\nimport pandas as pd\nimport numpy as np\nimport matplotlib.pyplot as plt\nimport seaborn as sns\nimport yaml\nfrom pathlib import Path\n\n# Import our modules\nfrom data.etl import load_config, load_all_data\n\n# Set style\nplt.style.use('default')\nsns.set_palette(\"husl\")\n\nprint(\"Setup complete!\")"
  }
 ],
 "metadata": {
  "language_info": {
   "name": "python"
  }
 },
 "nbformat": 4,
 "nbformat_minor": 2
}