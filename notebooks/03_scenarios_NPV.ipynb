{
  "cells": [
    {
      "cell_type": "markdown",
      "metadata": {},
      "source": [
        "# NPV Scenarios & Monte Carlo Analysis\n",
        "\n",
        "**MVP Week-1 Deliverable**  \n",
        "This notebook builds the full economic model and runs Monte Carlo simulation to generate NPV/IRR distributions under uncertainty.\n",
        "\n",
        "## Objectives\n",
        "- Build complete cashflow model (revenue, costs, net cashflows)\n",
        "- Run Monte Carlo simulation with parameter uncertainty\n",
        "- Generate P10/P50/P90 NPV and IRR statistics\n",
        "- Identify key value drivers through sensitivity analysis\n"
      ]
    },
    {
      "cell_type": "code",
      "execution_count": null,
      "metadata": {},
      "outputs": [],
      "source": [
        "# Setup\n",
        "import sys\n",
        "sys.path.append('../src')\n",
        "\n",
        "import numpy as np\n",
        "import pandas as pd\n",
        "import matplotlib.pyplot as plt\n",
        "import seaborn as sns\n",
        "\n",
        "# Import our modules\n",
        "from data.etl import load_config\n",
        "from models.bass import bass_adopters\n",
        "from access.pricing_sim import apply_access_constraints, tier_from_price\n",
        "from econ.npv import calculate_cashflows, npv, irr, monte_carlo_npv\n",
        "\n",
        "# Load configuration\n",
        "config = load_config('../conf/params.yml')\n",
        "print(\"Configuration loaded successfully!\")\n",
        "\n",
        "# Set random seed for reproducibility\n",
        "np.random.seed(config['random_seed'])\n",
        "print(f\"Random seed set to: {config['random_seed']}\")\n"
      ]
    }
  ],
  "metadata": {
    "language_info": {
      "name": "python"
    }
  },
  "nbformat": 4,
  "nbformat_minor": 2
}
