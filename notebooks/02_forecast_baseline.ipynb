{
  "cells": [
    {
      "cell_type": "markdown",
      "metadata": {},
      "source": [
        "# Baseline Commercial Forecast\n",
        "\n",
        "**MVP Week-1 Deliverable**  \n",
        "This notebook generates the baseline adoption and revenue forecast using the Bass diffusion model with access constraints.\n",
        "\n",
        "## Objectives\n",
        "- Generate quarterly adoption curve using Bass model\n",
        "- Apply price/access tier constraints  \n",
        "- Calculate baseline revenue projections\n",
        "- Visualize key forecast metrics\n"
      ]
    },
    {
      "cell_type": "code",
      "execution_count": null,
      "metadata": {},
      "outputs": [],
      "source": [
        "# Setup\n",
        "import sys\n",
        "sys.path.append('../src')\n",
        "\n",
        "import numpy as np\n",
        "import pandas as pd\n",
        "import matplotlib.pyplot as plt\n",
        "import seaborn as sns\n",
        "\n",
        "# Import our modules\n",
        "from data.etl import load_config\n",
        "from models.bass import bass_adopters, bass_cumulative, validate_bass_output\n",
        "from access.pricing_sim import tier_from_price, apply_access_constraints\n",
        "from econ.npv import revenue_model\n",
        "\n",
        "# Load configuration\n",
        "config = load_config('../conf/params.yml')\n",
        "print(\"Configuration loaded successfully!\")\n",
        "\n",
        "# Set random seed for reproducibility  \n",
        "np.random.seed(config['random_seed'])\n",
        "print(f\"Random seed set to: {config['random_seed']}\")\n"
      ]
    }
  ],
  "metadata": {
    "language_info": {
      "name": "python"
    }
  },
  "nbformat": 4,
  "nbformat_minor": 2
}
